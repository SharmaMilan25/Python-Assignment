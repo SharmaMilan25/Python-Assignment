{
 "cells": [
  {
   "cell_type": "markdown",
   "metadata": {},
   "source": [
    "# Python Programming Questions and Answers\n",
    "\n",
    "### 1. What is Python, and why is it popular?\n",
    "Python is a high-level programming language known for its simplicity and readability. It is popular because it's easy to learn, has a large community, and is versatile—used in web development, data analysis, AI, automation, and more.\n",
    "\n",
    "### 2. What is an interpreter in Python?\n",
    "An interpreter is a program that reads and runs Python code line by line. It converts Python code into machine-readable code and executes it immediately, instead of compiling it first like in other languages (e.g., C++).\n",
    "\n",
    "### 3. What are pre-defined keywords in Python?\n",
    "Keywords are reserved words in Python that have special meanings. They cannot be used as variable names. Examples include `if`, `else`, `def`, `while`, and `return`.\n",
    "\n",
    "### 4. Can keywords be used as variable names?\n",
    "No, you cannot use keywords as variable names because they are reserved for specific purposes in the Python language.\n",
    "\n",
    "### 5. What is mutability in Python?\n",
    "Mutability refers to whether an object’s value can be changed after it’s created. Mutable objects, like lists, can be changed, while immutable objects, like strings or tuples, cannot be changed after creation.\n",
    "\n",
    "### 6. Why are lists mutable, but tuples are immutable?\n",
    "Lists are mutable so you can modify their contents (add, remove, or change items), but tuples are immutable because they are designed to be fixed collections of data that cannot be altered once created. This provides security and consistency when working with data.\n",
    "\n",
    "### 7. What is the difference between `==` and `is` operators in Python?\n",
    "- `==` checks if two values are equal in value.\n",
    "- `is` checks if two variables point to the same object in memory.\n",
    "\n",
    "For example, `==` checks if two lists have the same elements, while `is` checks if they are the exact same list in memory.\n",
    "\n",
    "### 8. What are logical operators in Python?\n",
    "Logical operators in Python are used to combine conditional statements. The three main ones are:\n",
    "- `and`: True if both conditions are true.\n",
    "- `or`: True if at least one condition is true.\n",
    "- `not`: True if the condition is false.\n",
    "\n",
    "### 9. What is type casting in Python?\n",
    "Type casting is converting one data type to another. For example, converting an integer to a string: `str(10)` converts the integer `10` to the string `'10'`.\n",
    "\n",
    "### 10. What is the difference between implicit and explicit type-casting?\n",
    "- **Implicit type-casting**: Python automatically converts data types when needed, like converting an integer to a float in an expression: `5 + 2.0` results in `7.0` (float).\n",
    "- **Explicit type-casting**: The programmer manually converts a data type using functions like `int()`, `str()`, etc., for example: `int('5')` converts the string `'5'` to the integer `5`.\n",
    "\n",
    "### 11. What is the purpose of conditional statements in Python?\n",
    "Conditional statements (`if`, `elif`, `else`) allow your program to make decisions based on certain conditions. They control the flow of the program by executing specific code only if a condition is true.\n",
    "\n",
    "### 12. How does the `elif` statement work?\n",
    "The `elif` statement is used to check multiple conditions. If the `if` condition is false, it checks the `elif` condition. If `elif` is true, it executes its block of code. You can have multiple `elif` statements to check different conditions.\n",
    "\n",
    "### 13. What is the difference between `for` and `while` loops?\n",
    "- **`for` loop**: Used to iterate over a sequence (like a list, tuple, or range) for a fixed number of times.\n",
    "- **`while` loop**: Used to repeat a block of code as long as a condition is true, and the number of iterations is not fixed.\n",
    "\n",
    "### 14. Describe a scenario where a `while` loop is more suitable than a `for` loop.\n",
    "A `while` loop is better when you don’t know how many times the loop will run, and the loop depends on a condition being met. For example, a program that keeps asking the user for input until they type a correct password could use a `while` loop.\n",
    "\n"
   ]
  },
  {
   "cell_type": "markdown",
   "metadata": {},
   "source": [
    "1 Write a Python program to print \"Hello, World!_"
   ]
  },
  {
   "cell_type": "code",
   "execution_count": 1,
   "metadata": {},
   "outputs": [
    {
     "name": "stdout",
     "output_type": "stream",
     "text": [
      "Hello World!_\n"
     ]
    }
   ],
   "source": [
    "\n",
    "print(\"Hello World!_\")"
   ]
  },
  {
   "cell_type": "markdown",
   "metadata": {},
   "source": [
    "2. Write a Python program that displays your name and age"
   ]
  },
  {
   "cell_type": "code",
   "execution_count": 3,
   "metadata": {},
   "outputs": [
    {
     "name": "stdout",
     "output_type": "stream",
     "text": [
      "Milan 26\n"
     ]
    }
   ],
   "source": [
    "name = \"Milan\"\n",
    "age = 26\n",
    "\n",
    "print(name,age)"
   ]
  },
  {
   "cell_type": "markdown",
   "metadata": {},
   "source": [
    "3. Write code to print all the pre-defined keywords in Python using the keyword library"
   ]
  },
  {
   "cell_type": "code",
   "execution_count": 5,
   "metadata": {},
   "outputs": [
    {
     "name": "stdout",
     "output_type": "stream",
     "text": [
      "List of Python keywords:\n",
      "False\n",
      "None\n",
      "True\n",
      "and\n",
      "as\n",
      "assert\n",
      "async\n",
      "await\n",
      "break\n",
      "class\n",
      "continue\n",
      "def\n",
      "del\n",
      "elif\n",
      "else\n",
      "except\n",
      "finally\n",
      "for\n",
      "from\n",
      "global\n",
      "if\n",
      "import\n",
      "in\n",
      "is\n",
      "lambda\n",
      "nonlocal\n",
      "not\n",
      "or\n",
      "pass\n",
      "raise\n",
      "return\n",
      "try\n",
      "while\n",
      "with\n",
      "yield\n"
     ]
    }
   ],
   "source": [
    "# Get the list of all pre-defined keywords in Python\n",
    "import keyword\n",
    "keywords = keyword.kwlist\n",
    "\n",
    "# Print all the keywords\n",
    "print(\"List of Python keywords:\")\n",
    "for kw in keywords:\n",
    "    print(kw)"
   ]
  },
  {
   "cell_type": "markdown",
   "metadata": {},
   "source": [
    "4. Write a program that checks if a given word is a Python keyword0"
   ]
  },
  {
   "cell_type": "code",
   "execution_count": 11,
   "metadata": {},
   "outputs": [
    {
     "data": {
      "text/plain": [
       "True"
      ]
     },
     "execution_count": 11,
     "metadata": {},
     "output_type": "execute_result"
    }
   ],
   "source": [
    "keyword = \"in\"\n",
    "\n",
    "keyword in keywords"
   ]
  },
  {
   "cell_type": "markdown",
   "metadata": {},
   "source": [
    "5. Create a list and tuple in Python, and demonstrate how attempting to change an element works differently\n",
    "for each0"
   ]
  },
  {
   "cell_type": "code",
   "execution_count": 22,
   "metadata": {},
   "outputs": [
    {
     "name": "stdout",
     "output_type": "stream",
     "text": [
      "['kiwi', 'banana', 'orange']\n",
      "['baigan', 'tomato', 'patato']\n",
      "['baigan', 'gobhi', 'patato']\n"
     ]
    }
   ],
   "source": [
    "a = [\"apple\",\"banana\",\"orange\"]\n",
    "b = (\"baigan\",\"tomato\",\"patato\")\n",
    "\n",
    "a[0] = \"kiwi\"\n",
    "print(a)\n",
    "\n",
    "b = list(b)\n",
    "print(b)\n",
    "\n",
    "b[1] = \"gobhi\"\n",
    "print(b)"
   ]
  },
  {
   "cell_type": "markdown",
   "metadata": {},
   "source": [
    "6 Write a function to demonstrate the behavior of mutable and immutable arguments0"
   ]
  },
  {
   "cell_type": "code",
   "execution_count": 23,
   "metadata": {},
   "outputs": [
    {
     "name": "stdout",
     "output_type": "stream",
     "text": [
      "Before function call - Mutable list: [1, 2, 3]\n",
      "Before function call - Immutable tuple: (1, 2, 3)\n",
      "Inside function - Mutable list: [1, 2, 3, 100]\n",
      "Inside function - Immutable tuple: (1, 2, 3, 100)\n",
      "After function call - Mutable list: [1, 2, 3, 100]\n",
      "After function call - Immutable tuple: (1, 2, 3)\n"
     ]
    }
   ],
   "source": [
    "def modify_arguments(mutable_list, immutable_tuple):\n",
    "    # Modify the mutable list\n",
    "    mutable_list.append(100)\n",
    "    \n",
    "    # Attempt to modify the immutable tuple\n",
    "    immutable_tuple += (100,)  # This creates a new tuple\n",
    "\n",
    "    print(\"Inside function - Mutable list:\", mutable_list)\n",
    "    print(\"Inside function - Immutable tuple:\", immutable_tuple)\n",
    "\n",
    "# Define a mutable list and an immutable tuple\n",
    "my_list = [1, 2, 3]\n",
    "my_tuple = (1, 2, 3)\n",
    "\n",
    "print(\"Before function call - Mutable list:\", my_list)\n",
    "print(\"Before function call - Immutable tuple:\", my_tuple)\n",
    "\n",
    "# Call the function\n",
    "modify_arguments(my_list, my_tuple)\n",
    "\n",
    "print(\"After function call - Mutable list:\", my_list)  # List is modified\n",
    "print(\"After function call - Immutable tuple:\", my_tuple)  # Tuple remains unchanged"
   ]
  },
  {
   "cell_type": "markdown",
   "metadata": {},
   "source": [
    "7. Write a program to demonstrate the use of logical operators"
   ]
  },
  {
   "cell_type": "code",
   "execution_count": 28,
   "metadata": {},
   "outputs": [
    {
     "name": "stdout",
     "output_type": "stream",
     "text": [
      "price has increased\n"
     ]
    }
   ],
   "source": [
    "today_fruits_price = 100\n",
    "yesterday_fruits_price = 80\n",
    "\n",
    "if today_fruits_price > yesterday_fruits_price:\n",
    "        print(\"price has increased\")\n",
    "    \n",
    "elif today_fruits_price < yesterday_fruits_price:\n",
    "        print(\"today price has decresed\")\n",
    "    \n",
    "else:\n",
    "    print(\"today fruits price is same as yesterday\")"
   ]
  },
  {
   "cell_type": "markdown",
   "metadata": {},
   "source": [
    "8. Write a Python program to convert user input from string to integer, float, and boolean types0"
   ]
  },
  {
   "cell_type": "code",
   "execution_count": 29,
   "metadata": {},
   "outputs": [
    {
     "name": "stdout",
     "output_type": "stream",
     "text": [
      "<class 'int'> <class 'float'> <class 'bool'>\n"
     ]
    }
   ],
   "source": [
    "i,f,b=int(input()),float(input()),bool(input())\n",
    "print(type(i),type(f),type(b))"
   ]
  },
  {
   "cell_type": "markdown",
   "metadata": {},
   "source": [
    "9. Write code to demonstrate type casting with list elements0"
   ]
  },
  {
   "cell_type": "code",
   "execution_count": 30,
   "metadata": {},
   "outputs": [
    {
     "name": "stdout",
     "output_type": "stream",
     "text": [
      "Integer List: [1, 2, 3, 4, 6, 8, 9]\n"
     ]
    }
   ],
   "source": [
    "# List with mixed data types\n",
    "mixed_list = [\"1\", \"2\", \"3\", 4.5, 6.7, 8, \"9\"]\n",
    "\n",
    "int_list = [int(float(x)) for x in mixed_list]\n",
    "print(\"Integer List:\", int_list)"
   ]
  },
  {
   "cell_type": "markdown",
   "metadata": {},
   "source": [
    "10 Write a program that checks if a number is positive, negative, or zero0"
   ]
  },
  {
   "cell_type": "code",
   "execution_count": 1,
   "metadata": {},
   "outputs": [
    {
     "name": "stdout",
     "output_type": "stream",
     "text": [
      "Number is positive\n"
     ]
    }
   ],
   "source": [
    "a = 10\n",
    "\n",
    "if a >= 0:\n",
    "    print(\"Number is positive\")\n",
    "\n",
    "elif a <= 0:\n",
    "    print(\"Number is Negative\")\n",
    "\n",
    "else:\n",
    "    print(\"Number is Zero\")\n"
   ]
  },
  {
   "cell_type": "markdown",
   "metadata": {},
   "source": [
    "11. Write a for loop to print numbers from 1 to 100"
   ]
  },
  {
   "cell_type": "code",
   "execution_count": 32,
   "metadata": {},
   "outputs": [
    {
     "name": "stdout",
     "output_type": "stream",
     "text": [
      "1\n",
      "2\n",
      "3\n",
      "4\n",
      "5\n",
      "6\n",
      "7\n",
      "8\n",
      "9\n",
      "10\n",
      "11\n",
      "12\n",
      "13\n",
      "14\n",
      "15\n",
      "16\n",
      "17\n",
      "18\n",
      "19\n",
      "20\n",
      "21\n",
      "22\n",
      "23\n",
      "24\n",
      "25\n",
      "26\n",
      "27\n",
      "28\n",
      "29\n",
      "30\n",
      "31\n",
      "32\n",
      "33\n",
      "34\n",
      "35\n",
      "36\n",
      "37\n",
      "38\n",
      "39\n",
      "40\n",
      "41\n",
      "42\n",
      "43\n",
      "44\n",
      "45\n",
      "46\n",
      "47\n",
      "48\n",
      "49\n",
      "50\n",
      "51\n",
      "52\n",
      "53\n",
      "54\n",
      "55\n",
      "56\n",
      "57\n",
      "58\n",
      "59\n",
      "60\n",
      "61\n",
      "62\n",
      "63\n",
      "64\n",
      "65\n",
      "66\n",
      "67\n",
      "68\n",
      "69\n",
      "70\n",
      "71\n",
      "72\n",
      "73\n",
      "74\n",
      "75\n",
      "76\n",
      "77\n",
      "78\n",
      "79\n",
      "80\n",
      "81\n",
      "82\n",
      "83\n",
      "84\n",
      "85\n",
      "86\n",
      "87\n",
      "88\n",
      "89\n",
      "90\n",
      "91\n",
      "92\n",
      "93\n",
      "94\n",
      "95\n",
      "96\n",
      "97\n",
      "98\n",
      "99\n",
      "100\n"
     ]
    }
   ],
   "source": [
    "for i in range(1, 101):\n",
    "    print(i)"
   ]
  },
  {
   "cell_type": "markdown",
   "metadata": {},
   "source": [
    "11 Write a Python program to find the sum of all even numbers between 1 and 50"
   ]
  },
  {
   "cell_type": "code",
   "execution_count": 33,
   "metadata": {},
   "outputs": [
    {
     "name": "stdout",
     "output_type": "stream",
     "text": [
      "Sum of even numbers between 1 and 500: 62750\n"
     ]
    }
   ],
   "source": [
    "total = 0\n",
    "for num in range(2, 501, 2):  # Start from 2, go up to 500, step by 2\n",
    "    total += num\n",
    "print(\"Sum of even numbers between 1 and 500:\", total)"
   ]
  },
  {
   "cell_type": "markdown",
   "metadata": {},
   "source": [
    "12. Write a program to reverse a string using a while loop0"
   ]
  },
  {
   "cell_type": "code",
   "execution_count": 35,
   "metadata": {},
   "outputs": [
    {
     "name": "stdout",
     "output_type": "stream",
     "text": [
      "Reversed string: nalim\n"
     ]
    }
   ],
   "source": [
    "string = input(\"Enter a string: \")\n",
    "reversed_string = \"\"\n",
    "i = len(string) - 1\n",
    "\n",
    "while i >= 0:\n",
    "    reversed_string += string[i]\n",
    "    i -= 1\n",
    "\n",
    "print(\"Reversed string:\", reversed_string)"
   ]
  },
  {
   "cell_type": "markdown",
   "metadata": {},
   "source": [
    "14. Write a Python program to calculate the factorial of a number provided by the user using a while loop."
   ]
  },
  {
   "cell_type": "code",
   "execution_count": 36,
   "metadata": {},
   "outputs": [
    {
     "name": "stdout",
     "output_type": "stream",
     "text": [
      "Factorial of 5 is 120\n"
     ]
    }
   ],
   "source": [
    "num = int(input(\"Enter a number: \"))\n",
    "factorial = 1\n",
    "i = num\n",
    "\n",
    "while i > 0:\n",
    "    factorial *= i\n",
    "    i -= 1\n",
    "\n",
    "print(f\"Factorial of {num} is {factorial}\")"
   ]
  }
 ],
 "metadata": {
  "kernelspec": {
   "display_name": "Python 3 (ipykernel)",
   "language": "python",
   "name": "python3"
  },
  "language_info": {
   "codemirror_mode": {
    "name": "ipython",
    "version": 3
   },
   "file_extension": ".py",
   "mimetype": "text/x-python",
   "name": "python",
   "nbconvert_exporter": "python",
   "pygments_lexer": "ipython3",
   "version": "3.12.7"
  }
 },
 "nbformat": 4,
 "nbformat_minor": 4
}
